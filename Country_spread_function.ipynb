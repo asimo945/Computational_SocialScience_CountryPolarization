{
 "cells": [
  {
   "cell_type": "code",
   "execution_count": 1,
   "id": "0f27c302",
   "metadata": {},
   "outputs": [],
   "source": [
    "import numpy as np\n",
    "import pandas as pd"
   ]
  },
  {
   "cell_type": "code",
   "execution_count": 2,
   "id": "f4d63e07",
   "metadata": {},
   "outputs": [],
   "source": [
    "def country_spread(file_path_str,country_name_str):\n",
    "    \n",
    "    ## Load File ##\n",
    "    file_dir=file_path_str\n",
    "    df=pd.read_excel(file_dir)\n",
    "    df=df.replace(r'^\\s*$', np.nan, regex=True)\n",
    "    \n",
    "    ## Weight(vp) DataFrame\n",
    "    Countries=list(df['E1006_NAM'].unique())\n",
    "    weight_list=list(df.columns[-9:])\n",
    "    weight_list_countries=['E1006_NAM']+weight_list\n",
    "    weight_df=df[weight_list_countries].groupby('E1006_NAM').mean(numeric_only=False)\n",
    "    ## Voters(likeip) DataFrame\n",
    "    voter_list=list(df.columns[2:-9])\n",
    "    voter_list_countries=['E1006_NAM']+voter_list\n",
    "    voter_df=df[voter_list_countries]\n",
    "    \n",
    "    ## Calculate spread\n",
    "    \n",
    "    vp_cal=weight_df.loc[country_name_str].iloc[0:,].dropna().values\n",
    "    likeip_cal=voter_df[voter_df['E1006_NAM']==country_name_str].iloc[:,1:len(vp_cal)+1].dropna(axis=0)\n",
    "    like_bar=likeip_cal.dot(vp_cal*0.01)\n",
    "    likeip_likeBar=(likeip_cal.T-like_bar).T\n",
    "    square=likeip_likeBar.apply(np.square).round(2)\n",
    "    sum_vp_dot_squre=square.dot(vp_cal*0.01)\n",
    "    spread=np.sqrt(np.array(sum_vp_dot_squre,dtype=np.float64))\n",
    "    likeip_cal['spread']=spread.round(2)\n",
    "    Contry_spread=pd.DataFrame(likeip_cal['spread'].describe().round(2)).rename(columns={\"spread\":country_name_str+' spread description'})\n",
    "    \n",
    "    ## save data ##\n",
    "    Contry_spread.to_excel(country_name_str+' Contry_spread.xlsx')\n",
    "    likeip_cal.to_excel(country_name_str+' likeip_cal.xlsx')\n",
    "    weight_df.to_excel(country_name_str+' weight_df.xlsx')\n",
    "    \n",
    "    return Contry_spread,likeip_cal,vp_cal"
   ]
  },
  {
   "cell_type": "code",
   "execution_count": null,
   "id": "d3e8198e",
   "metadata": {},
   "outputs": [],
   "source": []
  }
 ],
 "metadata": {
  "kernelspec": {
   "display_name": "Python 3 (ipykernel)",
   "language": "python",
   "name": "python3"
  },
  "language_info": {
   "codemirror_mode": {
    "name": "ipython",
    "version": 3
   },
   "file_extension": ".py",
   "mimetype": "text/x-python",
   "name": "python",
   "nbconvert_exporter": "python",
   "pygments_lexer": "ipython3",
   "version": "3.8.10"
  }
 },
 "nbformat": 4,
 "nbformat_minor": 5
}
